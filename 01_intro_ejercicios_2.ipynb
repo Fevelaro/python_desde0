{
 "cells": [
  {
   "attachments": {},
   "cell_type": "markdown",
   "metadata": {},
   "source": [
    "# Diccionarios\n",
    "* Crear un diccionario llamado **persona** con las llaves `nombre`, `apellido`, `edad` y sus valores respectivos.\n",
    "* Agregar una llave `puede_votar` con tipo de dato bool.\n",
    "* Agregar otra llave `juegos_favoritos` con una **lista** de strings.\n",
    "* Modificar la lista `juegos_favoritos` para agregar el juego \"Duck Hunt\".\n",
    "* Eliminar la llave `apellido`.\n",
    "* Concatenar los siguientes diccionarios para crear uno nuevo con todos los pares de llaves/valores:\n",
    "```\n",
    "    dic1 = {1:\"uno\"}\n",
    "    dic2 = {2:\"dos\"}\n",
    "    dic3 = {3:\"tres\"}\n",
    "```"
   ]
  },
  {
   "cell_type": "code",
   "execution_count": 23,
   "metadata": {},
   "outputs": [
    {
     "name": "stdout",
     "output_type": "stream",
     "text": [
      "{1: 'uno', 2: 'dos', 3: 'tres'}\n",
      "{1: 'uno', 2: 'dos', 3: 'tres'}\n"
     ]
    }
   ],
   "source": [
    "persona={'Nombre':'Felipe',\n",
    "         \"Apellido\":\"Velásquez\",\n",
    "         \"Edad\":34\n",
    "         }\n",
    "persona[\"Puede votar\"]=True\n",
    "juegos_fav=[\"Fútbol\",\"Trecking\",\"tenis de mesa\"]\n",
    "persona[\"Juegos favoritos\"]=juegos_fav\n",
    "#print(persona[\"Juegos favoritos\"])\n",
    "persona[\"Juegos favoritos\"].append(\"duck hunt\")\n",
    "#print(persona[\"Juegos favoritos\"])\n",
    "del(persona[\"Apellido\"])\n",
    "#print(persona)\n",
    "dic1={1:\"uno\"}\n",
    "dic2={2:\"dos\"}\n",
    "dic3={3:\"tres\"}\n",
    "#otra forma\n",
    "dic=dic1 | dic2 | dic3\n",
    "print(dic)\n"
   ]
  },
  {
   "attachments": {},
   "cell_type": "markdown",
   "metadata": {},
   "source": [
    "# Funciones\n",
    "* Crear una funcion que reciba de argumentos 2 números enteros `x` e `y`, y retorne un diccionario que contenga las llaves `suma` y `multiplicacion`, donde los valores sean la operación aritmetica correspondiente entre `x` y `y`.\n",
    "* Crear una función llamada `agregar_producto` que acepte como argumentos un `nombre` de producto, y una `cantidad`. Dejar la cantidad opcional con un valor por defecto de 1, y que la función no retorne nada pero imprima por pantalla el producto y cantidad agregada.\n",
    "* Modificar ambas funciones para agregar TypeHints."
   ]
  },
  {
   "cell_type": "code",
   "execution_count": 36,
   "metadata": {},
   "outputs": [
    {
     "name": "stdout",
     "output_type": "stream",
     "text": [
      "pilas 3\n",
      "velas 1\n"
     ]
    }
   ],
   "source": [
    "def fcn(x:int,y:int)->dict:\n",
    "    dicc={'suma':x+y,\n",
    "         'multiplicacion':x*y}\n",
    "    return dicc\n",
    "#u=fcn(2,3)\n",
    "#print(u)\n",
    "def agregar_producto(nombre:str,cantidad:int=1):\n",
    "    print(f\"{nombre} {cantidad}\")\n",
    "agregar_producto('pilas',3)\n",
    "agregar_producto('velas')"
   ]
  }
 ],
 "metadata": {
  "kernelspec": {
   "display_name": "venv",
   "language": "python",
   "name": "python3"
  },
  "language_info": {
   "codemirror_mode": {
    "name": "ipython",
    "version": 3
   },
   "file_extension": ".py",
   "mimetype": "text/x-python",
   "name": "python",
   "nbconvert_exporter": "python",
   "pygments_lexer": "ipython3",
   "version": "3.11.4"
  },
  "orig_nbformat": 4
 },
 "nbformat": 4,
 "nbformat_minor": 2
}
