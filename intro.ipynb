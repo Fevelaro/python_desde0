{
 "cells": [
  {
   "cell_type": "code",
   "execution_count": null,
   "metadata": {},
   "outputs": [],
   "source": [
    "print(\"Hola mundo\")\n",
    "x=\"Hola Mundo\"\n",
    "x=\"Chao Mundo\"\n",
    "x=10\n",
    "x=1.0\n",
    "x=1+2j\n",
    "y=20\n",
    "x=None #Null\n"
   ]
  }
 ],
 "metadata": {
  "language_info": {
   "name": "python"
  },
  "orig_nbformat": 4
 },
 "nbformat": 4,
 "nbformat_minor": 2
}
