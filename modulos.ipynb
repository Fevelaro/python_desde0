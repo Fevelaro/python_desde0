{
 "cells": [
  {
   "attachments": {},
   "cell_type": "markdown",
   "metadata": {},
   "source": [
    "Modulos"
   ]
  },
  {
   "attachments": {},
   "cell_type": "markdown",
   "metadata": {},
   "source": [
    "Importación de todo un módulo y llamado de funciones"
   ]
  },
  {
   "cell_type": "code",
   "execution_count": 9,
   "metadata": {},
   "outputs": [
    {
     "name": "stdout",
     "output_type": "stream",
     "text": [
      "0 \n",
      "1 \n",
      "1 \n",
      "2 \n",
      "3 \n",
      "5 \n",
      "8 \n"
     ]
    },
    {
     "data": {
      "text/plain": [
       "3.14"
      ]
     },
     "execution_count": 9,
     "metadata": {},
     "output_type": "execute_result"
    }
   ],
   "source": [
    "import fibo\n",
    "fibo.fib(10)\n",
    "fibo.pi"
   ]
  },
  {
   "attachments": {},
   "cell_type": "markdown",
   "metadata": {},
   "source": [
    "Importación de funciones específicas de módulos y como llamarlas"
   ]
  },
  {
   "cell_type": "code",
   "execution_count": 3,
   "metadata": {},
   "outputs": [
    {
     "name": "stdout",
     "output_type": "stream",
     "text": [
      "0 \n",
      "1 \n",
      "1 \n",
      "2 \n",
      "3 \n",
      "5 \n",
      "8 \n",
      "13 \n"
     ]
    },
    {
     "data": {
      "text/plain": [
       "3.14"
      ]
     },
     "execution_count": 3,
     "metadata": {},
     "output_type": "execute_result"
    }
   ],
   "source": [
    "from fibo import fib, fib2, pi\n",
    "fib(15)\n",
    "pi"
   ]
  },
  {
   "attachments": {},
   "cell_type": "markdown",
   "metadata": {},
   "source": [
    "Alias"
   ]
  },
  {
   "cell_type": "code",
   "execution_count": 5,
   "metadata": {},
   "outputs": [
    {
     "name": "stdout",
     "output_type": "stream",
     "text": [
      "0 \n",
      "1 \n",
      "1 \n",
      "2 \n",
      "3 \n",
      "5 \n",
      "8 \n",
      "13 \n"
     ]
    },
    {
     "data": {
      "text/plain": [
       "3.14"
      ]
     },
     "execution_count": 5,
     "metadata": {},
     "output_type": "execute_result"
    }
   ],
   "source": [
    "from fibo import fib as f1, fib2 as f2, pi\n",
    "f1(15)\n",
    "pi"
   ]
  },
  {
   "attachments": {},
   "cell_type": "markdown",
   "metadata": {},
   "source": [
    "Modulos \n",
    "- Import modulo\n",
    "- from modulo import var1, fun\n",
    "- from modulo import *\n",
    "- import modulo as\n",
    "- from modulo import var1 as v1, fun1 as f1\n",
    "- interpreter vs jupyter notebook\n",
    "- if__name__==\"__main__\":\n",
    "- Search Path (curdir, PYTHONPATH, site-packages)\n",
    "- __pycache__\n",
    "- Standard Modules (sys, os, math, statistics, tkinter, sqlite3, json, etc) y dir(modulo)\n",
    "- Packages y __init__.py"
   ]
  },
  {
   "attachments": {},
   "cell_type": "markdown",
   "metadata": {},
   "source": [
    "Search Path"
   ]
  },
  {
   "cell_type": "code",
   "execution_count": null,
   "metadata": {},
   "outputs": [],
   "source": [
    "import fibo\n",
    "# Al reaizar una importación, primero busca en la carpeta actual, luego en PYTHONPATH.\n",
    "# Pythonpath es una variable de entorno, que señala en que \n",
    "# directorio/s están los módulos que pueden usarse\n",
    "#Finalmente va a site-package que está en venv/lib/version_python/site-packages"
   ]
  },
  {
   "attachments": {},
   "cell_type": "markdown",
   "metadata": {},
   "source": [
    "Standard Modules: Hay módulos preinstalados como Math, tkinter"
   ]
  },
  {
   "cell_type": "code",
   "execution_count": 6,
   "metadata": {},
   "outputs": [],
   "source": [
    "import tkinter as tk\n",
    "import PySide6\n",
    "#import PyQt\n",
    "import fibo\n",
    "\n",
    "def callback():\n",
    "    #obtener valor de input1 \n",
    "    x=int(input1.get())\n",
    "    resultado = fibo.fib2(x)\n",
    "    #actualizar texto de label resultado\n",
    "    label_resultado.config(text=str(resultado))\n",
    "    \n",
    "\n",
    "root = tk.Tk()\n",
    "root.geometry('400x200')\n",
    "#Label, Button, Entry\n",
    "label1=tk.Label(master=root, text=\"Ingrese un valor: \")\n",
    "label1.pack()\n",
    "\n",
    "input1=tk.Entry(master=root)\n",
    "input1.pack()\n",
    "\n",
    "#input2=tk.Entry(master=root)\n",
    "#input2.pack()\n",
    "\n",
    "button1=tk.Button(master=root, text=\"Ejecutar\",command=callback)\n",
    "button1.pack()\n",
    "\n",
    "label_resultado = tk.Label(master=root, text=\"\")\n",
    "label_resultado.pack()\n",
    "\n",
    "tk.mainloop()"
   ]
  },
  {
   "cell_type": "code",
   "execution_count": 11,
   "metadata": {},
   "outputs": [
    {
     "data": {
      "text/plain": [
       "1.0"
      ]
     },
     "execution_count": 11,
     "metadata": {},
     "output_type": "execute_result"
    }
   ],
   "source": [
    "import math\n",
    "math.log(math.e)"
   ]
  },
  {
   "attachments": {},
   "cell_type": "markdown",
   "metadata": {},
   "source": [
    "Pyche: __pycache__Almacenamiento temporal para acceder a cosas usadar usualmente.\n",
    "- Version compilada de modulos usados. Procurar mantener cache actualiizado\n"
   ]
  },
  {
   "attachments": {},
   "cell_type": "markdown",
   "metadata": {},
   "source": [
    "Packages\n",
    "\n",
    "Es una carpeta donde se pueden tener varios módulos\n",
    "Necesitan tener un archivo dentro de la carpeta que se llame __init__.py\n",
    "Dicho archivo debe estar vacío, pero es necesario para que se considere un package\n",
    "Por ejemplo si se crea una carpeta llamada matemática, y dentro se crean varias carpetas con los nombres de series-fibonacci, trigonometria, etc"
   ]
  },
  {
   "cell_type": "code",
   "execution_count": 3,
   "metadata": {},
   "outputs": [],
   "source": [
    "import matematica.series_fibonacci.fibo2\n",
    "#Los nombres no pueden tener guion medio"
   ]
  }
 ],
 "metadata": {
  "kernelspec": {
   "display_name": "venv",
   "language": "python",
   "name": "python3"
  },
  "language_info": {
   "codemirror_mode": {
    "name": "ipython",
    "version": 3
   },
   "file_extension": ".py",
   "mimetype": "text/x-python",
   "name": "python",
   "nbconvert_exporter": "python",
   "pygments_lexer": "ipython3",
   "version": "3.11.4"
  },
  "orig_nbformat": 4
 },
 "nbformat": 4,
 "nbformat_minor": 2
}
