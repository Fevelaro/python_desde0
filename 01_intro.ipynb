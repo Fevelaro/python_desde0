{
 "cells": [
  {
   "attachments": {},
   "cell_type": "markdown",
   "metadata": {},
   "source": [
    "# Preparación de ambiente\n",
    "\n",
    "* Instalar Python 3\n",
    "* Instalar VS Code\n",
    "* Crear \"Virtual Environment\" (`venv`)\n",
    "* Activar \"Virtual Environment\"\n",
    "* Instalar módulo jupyter usando `pip`\n",
    "\n",
    "### Instalar Python 3\n",
    "\n",
    "https://www.python.org/downloads/\n",
    "\n",
    "### Instalar VS Code\n",
    "\n",
    "https://code.visualstudio.com/download\n",
    "\n",
    "### Crear y Activar \"Virtual Environment\" venv\n",
    "1.- Crear carpeta para el proyecto en tu sistema operativo, y luego abrir la carpeta con VS Code.\n",
    "\n",
    "2.- Desde la terminal (usar IDE) ejecutar lo siguiente:\n",
    "\n",
    "```\n",
    "#Linux/Mac\n",
    "python3 -m venv venv\n",
    "source ./venv/bin/activate\n",
    "\n",
    "#Windows\n",
    "C:\\Python311\\python.exe -m venv venv\n",
    "venv\\Scripts\\activate\n",
    "```\n",
    "\n",
    "### Instalar módulo jupyter usando pip\n",
    "\n",
    "Desde la terminal (usar IDE) ejecutar lo siguiente:\n",
    "\n",
    "```\n",
    "pip install jupyter\n",
    "```\n",
    "\n",
    "Si todo sale bien debiesemos poder crear nuestro 1er **notebook** para trabajar.\n",
    "\n",
    "En VS Code, crear un archivo llamado ***intro.ipynb***"
   ]
  },
  {
   "cell_type": "code",
   "execution_count": null,
   "metadata": {},
   "outputs": [],
   "source": [
    "print(\"Esto debiese funcionar si todo va bien!\")"
   ]
  },
  {
   "attachments": {},
   "cell_type": "markdown",
   "metadata": {},
   "source": [
    "# Variables\n",
    "* Asignación de variables (guardar un valor en una variable)\n",
    "* Cambiar valor de una variable\n",
    "* Multiples valores a multiples variables\n",
    "* None"
   ]
  },
  {
   "cell_type": "code",
   "execution_count": null,
   "metadata": {},
   "outputs": [],
   "source": []
  },
  {
   "attachments": {},
   "cell_type": "markdown",
   "metadata": {},
   "source": [
    "# Tipos de Datos\n",
    "* Numericos (Integer, Float, Complex)\n",
    "* Booleanos (True/False)\n",
    "* Compuestos (String, List, Tuple, Set, Dictionary)\n",
    "* Conversion de tipo (int a str, str a int, int a float, etc)"
   ]
  },
  {
   "cell_type": "code",
   "execution_count": null,
   "metadata": {},
   "outputs": [],
   "source": [
    "descuento = 0.25\n",
    "precio = 1990\n",
    "aplica_descuento = True\n",
    "\n",
    "nombre = \"Juan\"\n",
    "apellido = \"Perez\"\n",
    "\n",
    "print(nombre + \" \" + apellido)\n",
    "print(\"%s %s\" % (nombre, apellido))\n",
    "print(\"{} {}\".format(nombre, apellido))\n",
    "print(f\"{nombre} {apellido}\")"
   ]
  },
  {
   "attachments": {},
   "cell_type": "markdown",
   "metadata": {},
   "source": [
    "# Estructuras de Datos\n",
    "* Listas (list)\n",
    "    * Indice (positivo y negativo)\n",
    "    * Función `len`\n",
    "    * Funciones básicas (append, remove, sort)\n",
    "    * Slicing\n",
    "* Tuplas (tuple)\n",
    "    * Indice (positivo y negativo)\n",
    "    * Función `len`\n",
    "    * Funciones básicas (count, index)\n",
    "    * Inmutable (imposible asignar nuevo valor luego de inicializado)\n",
    "* Set (set)\n",
    "    * Función `len`\n",
    "    * Funciones básicas (add, remove, discard, clear, union, intersection, difference)\n",
    "    * Función `set`\n",
    "* Diccionarios (dictionary)\n",
    "    * Función `len`\n",
    "    * Funciones básicas (keys, values, items, get, pop)\n",
    "    * `del` keyword"
   ]
  },
  {
   "cell_type": "code",
   "execution_count": 24,
   "metadata": {},
   "outputs": [
    {
     "name": "stdout",
     "output_type": "stream",
     "text": [
      "[1, 2, 'a veces', 2.1]\n",
      "[1, 2, 'siempre', 2.1]\n",
      "2.1\n",
      "<class 'list'>\n",
      "[1, 2, 8, 2.1, 0]\n",
      "[0, 1, 2, 2.1, 8]\n",
      "[1, 2, 2.1]\n"
     ]
    }
   ],
   "source": [
    "#listas\n",
    "x=[1,2,\"a veces\"]\n",
    "x.append(2.1)\n",
    "print(x)\n",
    "x[2]=\"siempre\"\n",
    "print(x)\n",
    "print(x[-1])\n",
    "print(type(x))\n",
    "x[2]=8\n",
    "x.append(0)\n",
    "print(x)\n",
    "x.sort()\n",
    "print(x)\n",
    "print(x[1:-1]) #Slicing\n"
   ]
  },
  {
   "cell_type": "code",
   "execution_count": null,
   "metadata": {},
   "outputs": [],
   "source": [
    "#tuplas\n",
    "x=(1,2,3,3,2,2)\n",
    "print(len(x))\n",
    "print(x.count(2))\n",
    "print(x.index(3)) #Entrega la primera posición que contenga el valor"
   ]
  },
  {
   "cell_type": "code",
   "execution_count": 25,
   "metadata": {},
   "outputs": [
    {
     "name": "stdout",
     "output_type": "stream",
     "text": [
      "<class 'set'>\n"
     ]
    }
   ],
   "source": [
    "#set\n",
    "x={1,2,3}\n",
    "print(type(x))\n",
    "x."
   ]
  },
  {
   "attachments": {},
   "cell_type": "markdown",
   "metadata": {},
   "source": [
    "# Funciones\n",
    "* Header y definición de la función\n",
    "* Body e Indentación de la función\n",
    "* (Opcional) Argumentos de la función\n",
    "* (Opcional) Retorno de la función\n",
    "* (Opcional) Defaults\n",
    "* (Opcional) TypeHints"
   ]
  },
  {
   "cell_type": "code",
   "execution_count": null,
   "metadata": {},
   "outputs": [],
   "source": []
  },
  {
   "attachments": {},
   "cell_type": "markdown",
   "metadata": {},
   "source": [
    "# Condicionales\n",
    "* Condición\n",
    "* Cuerpo e Indentación del bloque de código condicional\n",
    "* if else\n",
    "* if elif else\n",
    "* Algebra booleana y operadores lógicos (Teorema de DeMorgan)"
   ]
  },
  {
   "cell_type": "code",
   "execution_count": 4,
   "metadata": {},
   "outputs": [
    {
     "name": "stdout",
     "output_type": "stream",
     "text": [
      "Para comprobar se veran los valores de I3= 15 e I4= 0\n"
     ]
    }
   ],
   "source": [
    "I1=10\n",
    "I2=5\n",
    "I3=0\n",
    "I4=0\n",
    "if (I1>=I2):\n",
    "    I3=I1+I2\n",
    "else:\n",
    "    I4=I1*I2\n",
    "pantalla=f\"Para comprobar se veran los valores de I3= {I3} e I4= {I4}\"\n",
    "print(pantalla)"
   ]
  },
  {
   "cell_type": "code",
   "execution_count": 8,
   "metadata": {},
   "outputs": [
    {
     "name": "stdout",
     "output_type": "stream",
     "text": [
      "Ninguna condicion es True\n"
     ]
    }
   ],
   "source": [
    "condicion1=False\n",
    "condicion2=False\n",
    "if condicion1:\n",
    "    print(\"Condicion1 es True\")\n",
    "elif condicion2:\n",
    "    print(\"Condicion2 es True y condicion1 es False\")\n",
    "else:\n",
    "    print(\"Ninguna condicion es True\")\n",
    "##Solo entra en un if, elif o else si falla en las de arriba"
   ]
  },
  {
   "cell_type": "code",
   "execution_count": 10,
   "metadata": {},
   "outputs": [
    {
     "name": "stdout",
     "output_type": "stream",
     "text": [
      "Imprimirá esto si cualquiera de los dos o ambas condiciones son True\n",
      "Imprimira esto si ambas condiciones son ciertas\n",
      "Ninguna condicion es False\n"
     ]
    }
   ],
   "source": [
    "condicion1=True\n",
    "condicion2=True\n",
    "if condicion1 or condicion2:\n",
    "    print(\"Imprimirá esto si cualquiera de los dos o ambas condiciones son True\")\n",
    "\n",
    "if condicion1 & condicion2:\n",
    "    print(\"Imprimira esto si ambas condiciones son ciertas\")\n",
    "\n",
    "if not condicion1:\n",
    "    print(\"Condicion1 es False\")\n",
    "elif not condicion2:\n",
    "    print(\"Condicion2 es False y coondicion1 es True\")\n",
    "else:\n",
    "    print(\"Ninguna condicion es False\")\n"
   ]
  },
  {
   "attachments": {},
   "cell_type": "markdown",
   "metadata": {},
   "source": [
    "# Loops\n",
    "* For loops\n",
    "* While loops\n",
    "* For range loops"
   ]
  },
  {
   "cell_type": "code",
   "execution_count": 11,
   "metadata": {},
   "outputs": [
    {
     "name": "stdout",
     "output_type": "stream",
     "text": [
      "to\n",
      "cs\n",
      "mc\n"
     ]
    }
   ],
   "source": [
    "mi_lista=[\"to\",\"cs\",\"mc\"]\n",
    "for juego in mi_lista:\n",
    "    print(juego)"
   ]
  },
  {
   "cell_type": "code",
   "execution_count": 12,
   "metadata": {},
   "outputs": [
    {
     "name": "stdout",
     "output_type": "stream",
     "text": [
      "0\n",
      "1\n",
      "2\n",
      "3\n",
      "4\n",
      "5\n",
      "6\n",
      "7\n",
      "8\n",
      "9\n"
     ]
    }
   ],
   "source": [
    "n=10\n",
    "i=0\n",
    "while(i<n):\n",
    "    print(i)\n",
    "    i=i+1"
   ]
  },
  {
   "cell_type": "code",
   "execution_count": 16,
   "metadata": {},
   "outputs": [
    {
     "name": "stdout",
     "output_type": "stream",
     "text": [
      "to\n",
      "cs\n",
      "mc\n",
      "['0:to', '1:cs', '2:mc']\n"
     ]
    }
   ],
   "source": [
    "mi_lista=[\"to\",\"cs\",\"mc\"]\n",
    "largo=len(mi_lista)\n",
    "for i in range(largo):\n",
    "    print(mi_lista[i])\n",
    "    mi_lista[i]=str(i)+\":\"+mi_lista[i]\n",
    "print(mi_lista)\n"
   ]
  },
  {
   "attachments": {},
   "cell_type": "markdown",
   "metadata": {},
   "source": [
    "# Módulos (math, statistics, tkinter)\n",
    "\n",
    "* Import, From y Alias\n",
    "* Módulos externos (pip install)\n",
    "* Uso de tkinter"
   ]
  },
  {
   "cell_type": "code",
   "execution_count": null,
   "metadata": {},
   "outputs": [],
   "source": []
  },
  {
   "attachments": {},
   "cell_type": "markdown",
   "metadata": {},
   "source": [
    "# Spoilers siguientes sesiones!\n",
    "* Funciones avanzadas (Variables locales y globales, funciones anidadas, funciones lambda, funciones como argumentos, funciones recursivas)\n",
    "* Diccionarios y Listas anidadas\n",
    "* Algoritmos y tabla de trazabilidad\n",
    "* Manipulación de archivos\n",
    "* Manejo de errores\n",
    "* SQL\n",
    "* JSON y Protocolo HTTP\n",
    "* Pandas y/o NumPy\n",
    "* Programación Orientada a Objetos"
   ]
  }
 ],
 "metadata": {
  "kernelspec": {
   "display_name": "venv",
   "language": "python",
   "name": "python3"
  },
  "language_info": {
   "codemirror_mode": {
    "name": "ipython",
    "version": 3
   },
   "file_extension": ".py",
   "mimetype": "text/x-python",
   "name": "python",
   "nbconvert_exporter": "python",
   "pygments_lexer": "ipython3",
   "version": "3.11.4"
  },
  "orig_nbformat": 4
 },
 "nbformat": 4,
 "nbformat_minor": 2
}
