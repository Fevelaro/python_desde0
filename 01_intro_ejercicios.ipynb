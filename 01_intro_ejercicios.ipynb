{
 "cells": [
  {
   "attachments": {},
   "cell_type": "markdown",
   "metadata": {},
   "source": [
    "# Ejercicios Variables y Tipos de Datos\n",
    "\n",
    "* Crear las variables `x` e `y` y asignarles un numero\n",
    "* Sumar las variables y asignar el resultado de la suma a la variable `suma`\n",
    "* Restar las variables y asignar el resultado de la resta a la variable `resta`\n",
    "* Multiplicar las variables `suma`y `resta` y asignar el resultado a una variable `mult`\n",
    "* Crear una variable `numero_diez` de tipo str con el valor \"10\"\n",
    "* Crear una variable `numero_pi` de tipo str con el valor \"3.14\"\n",
    "* Sumar las variables `numero_diez` y la variable `numero_pi` para que el resultado sea 13.14"
   ]
  },
  {
   "cell_type": "code",
   "execution_count": 3,
   "metadata": {},
   "outputs": [
    {
     "name": "stdout",
     "output_type": "stream",
     "text": [
      "5\n",
      "-5\n",
      "13.14\n"
     ]
    }
   ],
   "source": [
    "x=2\n",
    "y=3\n",
    "suma=x+y\n",
    "print(suma)\n",
    "resta=x-y\n",
    "resta2=y-x\n",
    "mult=suma*resta\n",
    "print(mult)\n",
    "numero_diez=\"10\"\n",
    "numero_pi=\"3.14\"\n",
    "print(int(numero_diez)+float(numero_pi))"
   ]
  },
  {
   "attachments": {},
   "cell_type": "markdown",
   "metadata": {},
   "source": [
    "# Ejercicios Estructuras de Datos\n",
    "\n",
    "* Crear una lista `my_list` con 3 numeros enteros\n",
    "* Agregar un numero entero a `my_list`posterior a su inicialización\n",
    "* Sumar todos los elementos de `my_list` y asignar el resultado en una variable `suma`\n",
    "* Utilizar función *print* para mostrar `my_list` con los elementos ordenados de menor a mayor\n",
    "* Crear una tupla `my_tuple` con 3 palabras (Strings)\n",
    "* Concatenar las 3 palabras de `my_tuple` y asignar el resultado en una variable `concatenado`\n",
    "* Crear un set `my_set` con 5 valores decimales\n",
    "* Agregar 2 veces un número nuevo\n",
    "* Utilizar función *print* para mostrar `my_set`\n",
    "* Crear una variable `set_size` y asignarle como valor el número de elementos de `my_set`"
   ]
  },
  {
   "cell_type": "code",
   "execution_count": 24,
   "metadata": {},
   "outputs": [
    {
     "name": "stdout",
     "output_type": "stream",
     "text": [
      "[1, 2, 3, 4]\n",
      "1dosnegro\n",
      "{0.1, 1.1, 2.0, 1.0, 4.2, 5.2}\n",
      "{0.1, 1.1, 2.0, 1.0, 4.2, 5.2}\n",
      "6\n"
     ]
    }
   ],
   "source": [
    "my_list=[1,3,2]\n",
    "my_list.append(4)\n",
    "suma=my_list[0]+my_list[1]+my_list[2]+my_list[3]\n",
    "my_list.sort()\n",
    "print(my_list)\n",
    "my_tuple=(\"1\",\"dos\",\"negro\")\n",
    "concatenado=my_tuple[0]+my_tuple[1]+my_tuple[2]\n",
    "print(concatenado)\n",
    "my_set={0.1, 1.1, 2.0, 5.2, float(1)}\n",
    "my_set.add(4.2)\n",
    "print(my_set)\n",
    "my_set.add(4.2)\n",
    "print(my_set)\n",
    "set_size=len(my_set)\n",
    "print(set_size)"
   ]
  },
  {
   "cell_type": "code",
   "execution_count": 33,
   "metadata": {},
   "outputs": [
    {
     "name": "stdout",
     "output_type": "stream",
     "text": [
      "['nueva cadena', 'cadena2', 'cadena3']\n",
      "['nueva cadena', 'cadena2', 'cadena3', 'ultimo']\n",
      "['nueva cadena', 'cadena2', 'cadena3']\n"
     ]
    }
   ],
   "source": [
    "#fuera de ejercicio\n",
    "#inmutable\n",
    "my_tuple=(\"cadena1\",\"cadena2\",\"cadena3\")\n",
    "#mutable\n",
    "my_list=[\"cadena1\",\"cadena2\",\"cadena3\"]\n",
    "\n",
    "my_list[0]=\"nueva cadena\"\n",
    "#my_tuple[0]=\"nueva cadena\"\n",
    "my_tuple.index(\"cadena3\")\n",
    "my_tuple.count(\"nueva cadena\") #no existe en la tupla\n",
    "my_list.count(\"nueva cadena\") #existe en la lista\n",
    "lista=my_list\n",
    "listacopy=my_list.copy()\n",
    "print(lista)\n",
    "my_list.append(\"ultimo\")\n",
    "print(lista)\n",
    "print(listacopy)"
   ]
  }
 ],
 "metadata": {
  "kernelspec": {
   "display_name": "venv",
   "language": "python",
   "name": "python3"
  },
  "language_info": {
   "codemirror_mode": {
    "name": "ipython",
    "version": 3
   },
   "file_extension": ".py",
   "mimetype": "text/x-python",
   "name": "python",
   "nbconvert_exporter": "python",
   "pygments_lexer": "ipython3",
   "version": "3.11.4"
  },
  "orig_nbformat": 4
 },
 "nbformat": 4,
 "nbformat_minor": 2
}
